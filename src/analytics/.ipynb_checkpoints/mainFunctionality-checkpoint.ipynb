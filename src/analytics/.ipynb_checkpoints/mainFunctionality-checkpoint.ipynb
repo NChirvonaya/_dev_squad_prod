{
 "cells": [
  {
   "cell_type": "code",
   "execution_count": 290,
   "metadata": {},
   "outputs": [],
   "source": [
    "from instagram_web_api import Client, ClientCompatPatch, ClientError, ClientLoginError\n",
    "from textblob import TextBlob\n",
    "from textblob.sentiments import NaiveBayesAnalyzer\n",
    "from datetime import datetime\n",
    "\n",
    "import hashlib\n",
    "import string\n",
    "import random\n",
    "import time\n",
    "import json\n",
    "import os.path\n",
    "import logging\n",
    "import argparse\n",
    "\n",
    "# просто Client не работает, переопределена функция _extract_rhx_gis для захода в web инста\n",
    "class MyClient(Client):\n",
    "    @staticmethod\n",
    "    def _extract_rhx_gis(html):\n",
    "        options = string.ascii_lowercase + string.digits\n",
    "        text = ''.join([random.choice(options) for _ in range(8)])\n",
    "        return hashlib.md5(text.encode())\n",
    "    \n",
    "authed_web_api = MyClient(auto_patch=True, authenticate=True, username='testinstapp', password='testinstapp1')"
   ]
  },
  {
   "cell_type": "code",
   "execution_count": 291,
   "metadata": {},
   "outputs": [],
   "source": [
    "class Comment:\n",
    "    \n",
    "    # просто структурка для коммента, в которой хранятся автор, время и текст коммента\n",
    "    \n",
    "    def __init__(self, com_author, com_time, com_text):\n",
    "        self.com_author = com_author\n",
    "        self.com_time = com_time\n",
    "        self.com_text = com_text\n",
    "    \n",
    "# возвращает список всех комментов к посту\n",
    "def getPostComments(media_id):\n",
    "    res = []\n",
    "    max_id = '0'\n",
    "    next_max_id = ''\n",
    "    while (max_id != next_max_id):\n",
    "        max_id = next_max_id\n",
    "        post_comments = authed_web_api.media_comments(media_id, count = 50, end_cursor = max_id) # загружаем комменты\n",
    "        \n",
    "        #если комменты кончились, ливаем\n",
    "        if (len(post_comments) == 0):\n",
    "            break\n",
    "        \n",
    "        # смотрим, на каком комменте закончилась выгрузка\n",
    "        # реверсим массив комментов, чтобы итоговый список получился в убывающем порядке\n",
    "        next_max_id = post_comments[0]['id']\n",
    "        post_comments.reverse()\n",
    "        \n",
    "        # оставляем только нужную информацию\n",
    "        for comm in post_comments:\n",
    "            res.append(Comment(comm['owner']['username'], comm['created_at'], comm['text']))\n",
    "        \n",
    "        time.sleep(3) # ждем некоторое время, так как нельзя делать бесконечное число http-запросов\n",
    "    \n",
    "    return res\n",
    "\n",
    "# возвращает список всех комментов к профилю\n",
    "def getAllPostComments(media_id):\n",
    "    res = []\n",
    "    \n",
    "    \n",
    "    \n",
    "    return res"
   ]
  },
  {
   "cell_type": "code",
   "execution_count": 292,
   "metadata": {},
   "outputs": [
    {
     "name": "stdout",
     "output_type": "stream",
     "text": [
      "author: anthonyaaronhq time: 2020-04-13 11:19:30 text: 👋🏻👍🏻\n",
      "- Anthony Aaron\n",
      "author: frankyvincentio time: 2020-04-08 02:22:30 text: Bcaas/protein powder with fasted workouts? I have always done one scoop 25g protein powder before moderate-intense  fasted work, however because of current times I have to go without.\n",
      "author: gardener_no_break_connection time: 2020-04-07 18:54:03 text: karp.these Good video coming\n",
      "author: maidichemokidich time: 2020-04-07 18:19:08 text: @jrose250305.jr Thank you! I was surprised myself how I pulled it off without feeling week 🤩\n",
      "author: jrose250305.jr time: 2020-04-07 18:00:31 text: Did a 16hr fast Sunday through Monday & will be finishing my 18hr fast in 1.5hrs. I'm pretty hungry but I'm sipping black coffee & going to finish out strong.\n",
      "author: jrose250305.jr time: 2020-04-07 17:58:41 text: @maidichemokidich wow! That's awesome\n",
      "author: zerofasting time: 2020-04-07 14:57:45 text: @redmapleplanet Our Chief Medical Officer recently shared thoughts on this, which you can find in the Learn section of our app. While extended, multi-day fasts aren’t recommended at this time, shorter time-restricted feeding is fine to continue.\n",
      "author: soulrafaela_ time: 2020-04-07 13:24:36 text: 👏🏼👏🏼👏🏼👏🏼👏🏼\n",
      "author: assassix time: 2020-04-07 11:04:00 text: Come on guys, no weights, can’t get any canned food and even the dry bags of pasta you can’t get. I fasted for health before now I’m fasting out of necessity\n",
      "author: guardian_gains time: 2020-04-07 06:39:40 text: So badass!!! ❤️💪🏼🙏🏼🙏🏼🙏🏼\n",
      "author: redmapleplanet time: 2020-04-07 05:09:02 text: Any worries fasting and stressing your body - in light of COVID?\n",
      "author: jessantos81 time: 2020-04-07 03:55:22 text: @weworkoutpt\n",
      "author: pam.guerrero time: 2020-04-07 02:35:04 text: 18 hour #fastmonday  Trying to get back on track since being quarantined. 🙌\n",
      "author: juanjauregui1993 time: 2020-04-07 02:12:54 text: @juanfervs19 toca agregar pesas diarias\n",
      "author: gotommyw time: 2020-04-07 01:23:06 text: Legend 💪🏾 Keep up the great work\n",
      "author: lozier173 time: 2020-04-06 23:21:16 text: 💪\n",
      "author: juanfervs19 time: 2020-04-06 22:25:33 text: @juanjauregui1993\n",
      "author: maidichemokidich time: 2020-04-06 22:13:09 text: I’ve just finished my one hour pilates class 29hrs into fast 🙌 I also had no problem doing pilates 60hrs into fast.\n"
     ]
    }
   ],
   "source": [
    "media_id = 'B-poGKhgjai' # https://www.instagram.com/p/B9fnuCrJGeI/\n",
    "\n",
    "comments = getPostComments(media_id)\n",
    "for comm in comments:\n",
    "    print('author: ' + comm.com_author + ' time: ' + str(datetime.fromtimestamp(comm.com_time)) + ' text: ' + comm.com_text)"
   ]
  },
  {
   "cell_type": "code",
   "execution_count": null,
   "metadata": {},
   "outputs": [],
   "source": []
  }
 ],
 "metadata": {
  "kernelspec": {
   "display_name": "Python 3",
   "language": "python",
   "name": "python3"
  },
  "language_info": {
   "codemirror_mode": {
    "name": "ipython",
    "version": 3
   },
   "file_extension": ".py",
   "mimetype": "text/x-python",
   "name": "python",
   "nbconvert_exporter": "python",
   "pygments_lexer": "ipython3",
   "version": "3.7.3"
  }
 },
 "nbformat": 4,
 "nbformat_minor": 2
}
